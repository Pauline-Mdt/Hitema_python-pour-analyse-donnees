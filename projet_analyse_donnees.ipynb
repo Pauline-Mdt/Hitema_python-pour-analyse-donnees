{
  "nbformat": 4,
  "nbformat_minor": 0,
  "metadata": {
    "colab": {
      "provenance": [],
      "collapsed_sections": [
        "vhVOfCnEq5fW"
      ],
      "mount_file_id": "1spIiMJGFfv_FtckH0q0Kck09C1SzyaX_",
      "authorship_tag": "ABX9TyM4iGfeY/QAonrtcnNPJO1h"
    },
    "kernelspec": {
      "name": "python3",
      "display_name": "Python 3"
    },
    "language_info": {
      "name": "python"
    }
  },
  "cells": [
    {
      "cell_type": "markdown",
      "source": [
        "# Projet analyse de données\n",
        "\n",
        "## Consignes:\n",
        "Votre analyse sous forme de Jupyter Notebook déposé sur votre git en PUBLIC devra contenir:\n",
        "* Une problématique pertinente (c-à-d ou il est possible de répondre avec des données)\n",
        "* Au moins 1 diagramme avec données continues, type nuage de point ou histogramme\n",
        "* Au moins 2 diagrammes avec des données discrètes\n",
        "* Au moins 3 graphiques avec des données catégoriques\n",
        "* 1 boîte à moustaches avec filtrage des données aberrantes sur le dataset (si il y en a)\n",
        "* 1 heat map avec matrice de corrélation (si pertinent)\n",
        "* Des commentaires clairs et pertinents pour chaque graphiques"
      ],
      "metadata": {
        "id": "pw3i5-MjT6Jo"
      }
    },
    {
      "cell_type": "markdown",
      "source": [
        "## Problématique:\n",
        "\n",
        "**Est-ce que le genre et/ou l'âge influent sur les performances de l'athlète ?**"
      ],
      "metadata": {
        "id": "_8YBNTZ8VF-a"
      }
    },
    {
      "cell_type": "markdown",
      "source": [
        "### Import des données"
      ],
      "metadata": {
        "id": "vhVOfCnEq5fW"
      }
    },
    {
      "cell_type": "code",
      "execution_count": 5,
      "metadata": {
        "id": "tXbP6iEiTzJ3"
      },
      "outputs": [],
      "source": [
        "import pandas as pd\n",
        "import seaborn as sb\n",
        "import matplotlib.pyplot as plt"
      ]
    },
    {
      "cell_type": "code",
      "source": [
        "games2019_athletes = pd.read_csv('/content/drive/MyDrive/Hitema/Datasets/crossfit-games-data/2019_games_athletes.csv')"
      ],
      "metadata": {
        "id": "b9fWLFDlU-Ev"
      },
      "execution_count": 6,
      "outputs": []
    },
    {
      "cell_type": "markdown",
      "source": [
        "### Analyse des composantes et nettoyage des données"
      ],
      "metadata": {
        "id": "eBBz4uZ9rAuO"
      }
    },
    {
      "cell_type": "code",
      "source": [
        "games2019_athletes"
      ],
      "metadata": {
        "colab": {
          "base_uri": "https://localhost:8080/",
          "height": 731
        },
        "id": "I_aDpwiRWHpN",
        "outputId": "88b6d2d1-c849-4ef9-9190-ccfaa90fec26"
      },
      "execution_count": 7,
      "outputs": [
        {
          "output_type": "execute_result",
          "data": {
            "text/plain": [
              "     height  affiliateid countryoforiginname  weight  \\\n",
              "0      1.74      44632.0       United States    88.5   \n",
              "1      1.74      44800.0       United States    86.2   \n",
              "2      1.55      44753.0             Iceland    83.9   \n",
              "3      1.80      44597.0       United States    84.8   \n",
              "4      1.55      44792.0           Australia    87.1   \n",
              "..      ...          ...                 ...     ...   \n",
              "389    1.65      44947.0       United States    71.2   \n",
              "390    1.62      44856.0       United States    53.1   \n",
              "391    1.25      44782.0       United States    50.8   \n",
              "392    1.68      44821.0              Canada    57.2   \n",
              "393    1.68      44907.0              Canada    55.8   \n",
              "\n",
              "                      affiliatename status bibid          profilepics3key  \\\n",
              "0                   CrossFit Mayhem    ACT   016  9e218-P153604_4-184.jpg   \n",
              "1                 Peak 360 CrossFit    ACT   302    0a0bc-P2725_5-184.jpg   \n",
              "2                  CrossFit Hengill    ACT   122   4c5dc-P81616_4-184.jpg   \n",
              "3                CrossFit Mentality    ACT   105   e23e0-P34796_8-184.jpg   \n",
              "4                     CrossFit Mode    ACT   303   b7c6d-P16080_7-184.jpg   \n",
              "..                              ...    ...   ...                      ...   \n",
              "389               CrossFit Uncommon    ACT   610  433bb-P198927_3-184.jpg   \n",
              "390        Reebok CrossFit Medfield    ACT   605  a6012-P312883_7-184.jpg   \n",
              "391             Ft. Wright CrossFit    ACT   607   0b3ce-P32842_4-184.jpg   \n",
              "392  CrossFit Living The Dream Ajax    ACT   606  10f1f-P702085_9-184.jpg   \n",
              "393                  CrossFit Lions     WD   609   d55e0-P62910_4-184.jpg   \n",
              "\n",
              "     competitorid      firstname gender  age     lastname countryoforigincode  \\\n",
              "0          153604         Mathew      M   29       Fraser                  US   \n",
              "1            2725           Noah      M   28       Ohlsen                  US   \n",
              "2           81616  Björgvin Karl      M   26  Guðmundsson                  IS   \n",
              "3           34796          Scott      M   31      Panchik                  US   \n",
              "4           16080          James      M   28      Newbury                  AU   \n",
              "..            ...            ...    ...  ...          ...                 ...   \n",
              "389        198927          Julie      X   62         Holt                  US   \n",
              "390        312883     Carol Lynn      X   62      Thistle                  US   \n",
              "391         32842      Elizabeth      X   62         Cole                  US   \n",
              "392        702085      Christine      X   60         Long                  CA   \n",
              "393         62910          Debby      X   60         Cook                  CA   \n",
              "\n",
              "                competitorname overallrank  overallscore     division  \n",
              "0                Mathew Fraser           1         984.0          Men  \n",
              "1                  Noah Ohlsen           2         949.0          Men  \n",
              "2    Björgvin Karl Guðmundsson           3         888.0          Men  \n",
              "3                Scott Panchik           4         795.0          Men  \n",
              "4                James Newbury           5         728.0          Men  \n",
              "..                         ...         ...           ...          ...  \n",
              "389                 Julie Holt           6         380.0  Women (60+)  \n",
              "390         Carol Lynn Thistle           7         310.0  Women (60+)  \n",
              "391             Elizabeth Cole           8         290.0  Women (60+)  \n",
              "392             Christine Long           9         250.0  Women (60+)  \n",
              "393                 Debby Cook          10         190.0  Women (60+)  \n",
              "\n",
              "[394 rows x 18 columns]"
            ],
            "text/html": [
              "\n",
              "  <div id=\"df-9d4ec5fa-66b6-42a6-a3e4-1241ce7b15b8\">\n",
              "    <div class=\"colab-df-container\">\n",
              "      <div>\n",
              "<style scoped>\n",
              "    .dataframe tbody tr th:only-of-type {\n",
              "        vertical-align: middle;\n",
              "    }\n",
              "\n",
              "    .dataframe tbody tr th {\n",
              "        vertical-align: top;\n",
              "    }\n",
              "\n",
              "    .dataframe thead th {\n",
              "        text-align: right;\n",
              "    }\n",
              "</style>\n",
              "<table border=\"1\" class=\"dataframe\">\n",
              "  <thead>\n",
              "    <tr style=\"text-align: right;\">\n",
              "      <th></th>\n",
              "      <th>height</th>\n",
              "      <th>affiliateid</th>\n",
              "      <th>countryoforiginname</th>\n",
              "      <th>weight</th>\n",
              "      <th>affiliatename</th>\n",
              "      <th>status</th>\n",
              "      <th>bibid</th>\n",
              "      <th>profilepics3key</th>\n",
              "      <th>competitorid</th>\n",
              "      <th>firstname</th>\n",
              "      <th>gender</th>\n",
              "      <th>age</th>\n",
              "      <th>lastname</th>\n",
              "      <th>countryoforigincode</th>\n",
              "      <th>competitorname</th>\n",
              "      <th>overallrank</th>\n",
              "      <th>overallscore</th>\n",
              "      <th>division</th>\n",
              "    </tr>\n",
              "  </thead>\n",
              "  <tbody>\n",
              "    <tr>\n",
              "      <th>0</th>\n",
              "      <td>1.74</td>\n",
              "      <td>44632.0</td>\n",
              "      <td>United States</td>\n",
              "      <td>88.5</td>\n",
              "      <td>CrossFit Mayhem</td>\n",
              "      <td>ACT</td>\n",
              "      <td>016</td>\n",
              "      <td>9e218-P153604_4-184.jpg</td>\n",
              "      <td>153604</td>\n",
              "      <td>Mathew</td>\n",
              "      <td>M</td>\n",
              "      <td>29</td>\n",
              "      <td>Fraser</td>\n",
              "      <td>US</td>\n",
              "      <td>Mathew Fraser</td>\n",
              "      <td>1</td>\n",
              "      <td>984.0</td>\n",
              "      <td>Men</td>\n",
              "    </tr>\n",
              "    <tr>\n",
              "      <th>1</th>\n",
              "      <td>1.74</td>\n",
              "      <td>44800.0</td>\n",
              "      <td>United States</td>\n",
              "      <td>86.2</td>\n",
              "      <td>Peak 360 CrossFit</td>\n",
              "      <td>ACT</td>\n",
              "      <td>302</td>\n",
              "      <td>0a0bc-P2725_5-184.jpg</td>\n",
              "      <td>2725</td>\n",
              "      <td>Noah</td>\n",
              "      <td>M</td>\n",
              "      <td>28</td>\n",
              "      <td>Ohlsen</td>\n",
              "      <td>US</td>\n",
              "      <td>Noah Ohlsen</td>\n",
              "      <td>2</td>\n",
              "      <td>949.0</td>\n",
              "      <td>Men</td>\n",
              "    </tr>\n",
              "    <tr>\n",
              "      <th>2</th>\n",
              "      <td>1.55</td>\n",
              "      <td>44753.0</td>\n",
              "      <td>Iceland</td>\n",
              "      <td>83.9</td>\n",
              "      <td>CrossFit Hengill</td>\n",
              "      <td>ACT</td>\n",
              "      <td>122</td>\n",
              "      <td>4c5dc-P81616_4-184.jpg</td>\n",
              "      <td>81616</td>\n",
              "      <td>Björgvin Karl</td>\n",
              "      <td>M</td>\n",
              "      <td>26</td>\n",
              "      <td>Guðmundsson</td>\n",
              "      <td>IS</td>\n",
              "      <td>Björgvin Karl Guðmundsson</td>\n",
              "      <td>3</td>\n",
              "      <td>888.0</td>\n",
              "      <td>Men</td>\n",
              "    </tr>\n",
              "    <tr>\n",
              "      <th>3</th>\n",
              "      <td>1.80</td>\n",
              "      <td>44597.0</td>\n",
              "      <td>United States</td>\n",
              "      <td>84.8</td>\n",
              "      <td>CrossFit Mentality</td>\n",
              "      <td>ACT</td>\n",
              "      <td>105</td>\n",
              "      <td>e23e0-P34796_8-184.jpg</td>\n",
              "      <td>34796</td>\n",
              "      <td>Scott</td>\n",
              "      <td>M</td>\n",
              "      <td>31</td>\n",
              "      <td>Panchik</td>\n",
              "      <td>US</td>\n",
              "      <td>Scott Panchik</td>\n",
              "      <td>4</td>\n",
              "      <td>795.0</td>\n",
              "      <td>Men</td>\n",
              "    </tr>\n",
              "    <tr>\n",
              "      <th>4</th>\n",
              "      <td>1.55</td>\n",
              "      <td>44792.0</td>\n",
              "      <td>Australia</td>\n",
              "      <td>87.1</td>\n",
              "      <td>CrossFit Mode</td>\n",
              "      <td>ACT</td>\n",
              "      <td>303</td>\n",
              "      <td>b7c6d-P16080_7-184.jpg</td>\n",
              "      <td>16080</td>\n",
              "      <td>James</td>\n",
              "      <td>M</td>\n",
              "      <td>28</td>\n",
              "      <td>Newbury</td>\n",
              "      <td>AU</td>\n",
              "      <td>James Newbury</td>\n",
              "      <td>5</td>\n",
              "      <td>728.0</td>\n",
              "      <td>Men</td>\n",
              "    </tr>\n",
              "    <tr>\n",
              "      <th>...</th>\n",
              "      <td>...</td>\n",
              "      <td>...</td>\n",
              "      <td>...</td>\n",
              "      <td>...</td>\n",
              "      <td>...</td>\n",
              "      <td>...</td>\n",
              "      <td>...</td>\n",
              "      <td>...</td>\n",
              "      <td>...</td>\n",
              "      <td>...</td>\n",
              "      <td>...</td>\n",
              "      <td>...</td>\n",
              "      <td>...</td>\n",
              "      <td>...</td>\n",
              "      <td>...</td>\n",
              "      <td>...</td>\n",
              "      <td>...</td>\n",
              "      <td>...</td>\n",
              "    </tr>\n",
              "    <tr>\n",
              "      <th>389</th>\n",
              "      <td>1.65</td>\n",
              "      <td>44947.0</td>\n",
              "      <td>United States</td>\n",
              "      <td>71.2</td>\n",
              "      <td>CrossFit Uncommon</td>\n",
              "      <td>ACT</td>\n",
              "      <td>610</td>\n",
              "      <td>433bb-P198927_3-184.jpg</td>\n",
              "      <td>198927</td>\n",
              "      <td>Julie</td>\n",
              "      <td>X</td>\n",
              "      <td>62</td>\n",
              "      <td>Holt</td>\n",
              "      <td>US</td>\n",
              "      <td>Julie Holt</td>\n",
              "      <td>6</td>\n",
              "      <td>380.0</td>\n",
              "      <td>Women (60+)</td>\n",
              "    </tr>\n",
              "    <tr>\n",
              "      <th>390</th>\n",
              "      <td>1.62</td>\n",
              "      <td>44856.0</td>\n",
              "      <td>United States</td>\n",
              "      <td>53.1</td>\n",
              "      <td>Reebok CrossFit Medfield</td>\n",
              "      <td>ACT</td>\n",
              "      <td>605</td>\n",
              "      <td>a6012-P312883_7-184.jpg</td>\n",
              "      <td>312883</td>\n",
              "      <td>Carol Lynn</td>\n",
              "      <td>X</td>\n",
              "      <td>62</td>\n",
              "      <td>Thistle</td>\n",
              "      <td>US</td>\n",
              "      <td>Carol Lynn Thistle</td>\n",
              "      <td>7</td>\n",
              "      <td>310.0</td>\n",
              "      <td>Women (60+)</td>\n",
              "    </tr>\n",
              "    <tr>\n",
              "      <th>391</th>\n",
              "      <td>1.25</td>\n",
              "      <td>44782.0</td>\n",
              "      <td>United States</td>\n",
              "      <td>50.8</td>\n",
              "      <td>Ft. Wright CrossFit</td>\n",
              "      <td>ACT</td>\n",
              "      <td>607</td>\n",
              "      <td>0b3ce-P32842_4-184.jpg</td>\n",
              "      <td>32842</td>\n",
              "      <td>Elizabeth</td>\n",
              "      <td>X</td>\n",
              "      <td>62</td>\n",
              "      <td>Cole</td>\n",
              "      <td>US</td>\n",
              "      <td>Elizabeth Cole</td>\n",
              "      <td>8</td>\n",
              "      <td>290.0</td>\n",
              "      <td>Women (60+)</td>\n",
              "    </tr>\n",
              "    <tr>\n",
              "      <th>392</th>\n",
              "      <td>1.68</td>\n",
              "      <td>44821.0</td>\n",
              "      <td>Canada</td>\n",
              "      <td>57.2</td>\n",
              "      <td>CrossFit Living The Dream Ajax</td>\n",
              "      <td>ACT</td>\n",
              "      <td>606</td>\n",
              "      <td>10f1f-P702085_9-184.jpg</td>\n",
              "      <td>702085</td>\n",
              "      <td>Christine</td>\n",
              "      <td>X</td>\n",
              "      <td>60</td>\n",
              "      <td>Long</td>\n",
              "      <td>CA</td>\n",
              "      <td>Christine Long</td>\n",
              "      <td>9</td>\n",
              "      <td>250.0</td>\n",
              "      <td>Women (60+)</td>\n",
              "    </tr>\n",
              "    <tr>\n",
              "      <th>393</th>\n",
              "      <td>1.68</td>\n",
              "      <td>44907.0</td>\n",
              "      <td>Canada</td>\n",
              "      <td>55.8</td>\n",
              "      <td>CrossFit Lions</td>\n",
              "      <td>WD</td>\n",
              "      <td>609</td>\n",
              "      <td>d55e0-P62910_4-184.jpg</td>\n",
              "      <td>62910</td>\n",
              "      <td>Debby</td>\n",
              "      <td>X</td>\n",
              "      <td>60</td>\n",
              "      <td>Cook</td>\n",
              "      <td>CA</td>\n",
              "      <td>Debby Cook</td>\n",
              "      <td>10</td>\n",
              "      <td>190.0</td>\n",
              "      <td>Women (60+)</td>\n",
              "    </tr>\n",
              "  </tbody>\n",
              "</table>\n",
              "<p>394 rows × 18 columns</p>\n",
              "</div>\n",
              "      <button class=\"colab-df-convert\" onclick=\"convertToInteractive('df-9d4ec5fa-66b6-42a6-a3e4-1241ce7b15b8')\"\n",
              "              title=\"Convert this dataframe to an interactive table.\"\n",
              "              style=\"display:none;\">\n",
              "        \n",
              "  <svg xmlns=\"http://www.w3.org/2000/svg\" height=\"24px\"viewBox=\"0 0 24 24\"\n",
              "       width=\"24px\">\n",
              "    <path d=\"M0 0h24v24H0V0z\" fill=\"none\"/>\n",
              "    <path d=\"M18.56 5.44l.94 2.06.94-2.06 2.06-.94-2.06-.94-.94-2.06-.94 2.06-2.06.94zm-11 1L8.5 8.5l.94-2.06 2.06-.94-2.06-.94L8.5 2.5l-.94 2.06-2.06.94zm10 10l.94 2.06.94-2.06 2.06-.94-2.06-.94-.94-2.06-.94 2.06-2.06.94z\"/><path d=\"M17.41 7.96l-1.37-1.37c-.4-.4-.92-.59-1.43-.59-.52 0-1.04.2-1.43.59L10.3 9.45l-7.72 7.72c-.78.78-.78 2.05 0 2.83L4 21.41c.39.39.9.59 1.41.59.51 0 1.02-.2 1.41-.59l7.78-7.78 2.81-2.81c.8-.78.8-2.07 0-2.86zM5.41 20L4 18.59l7.72-7.72 1.47 1.35L5.41 20z\"/>\n",
              "  </svg>\n",
              "      </button>\n",
              "      \n",
              "  <style>\n",
              "    .colab-df-container {\n",
              "      display:flex;\n",
              "      flex-wrap:wrap;\n",
              "      gap: 12px;\n",
              "    }\n",
              "\n",
              "    .colab-df-convert {\n",
              "      background-color: #E8F0FE;\n",
              "      border: none;\n",
              "      border-radius: 50%;\n",
              "      cursor: pointer;\n",
              "      display: none;\n",
              "      fill: #1967D2;\n",
              "      height: 32px;\n",
              "      padding: 0 0 0 0;\n",
              "      width: 32px;\n",
              "    }\n",
              "\n",
              "    .colab-df-convert:hover {\n",
              "      background-color: #E2EBFA;\n",
              "      box-shadow: 0px 1px 2px rgba(60, 64, 67, 0.3), 0px 1px 3px 1px rgba(60, 64, 67, 0.15);\n",
              "      fill: #174EA6;\n",
              "    }\n",
              "\n",
              "    [theme=dark] .colab-df-convert {\n",
              "      background-color: #3B4455;\n",
              "      fill: #D2E3FC;\n",
              "    }\n",
              "\n",
              "    [theme=dark] .colab-df-convert:hover {\n",
              "      background-color: #434B5C;\n",
              "      box-shadow: 0px 1px 3px 1px rgba(0, 0, 0, 0.15);\n",
              "      filter: drop-shadow(0px 1px 2px rgba(0, 0, 0, 0.3));\n",
              "      fill: #FFFFFF;\n",
              "    }\n",
              "  </style>\n",
              "\n",
              "      <script>\n",
              "        const buttonEl =\n",
              "          document.querySelector('#df-9d4ec5fa-66b6-42a6-a3e4-1241ce7b15b8 button.colab-df-convert');\n",
              "        buttonEl.style.display =\n",
              "          google.colab.kernel.accessAllowed ? 'block' : 'none';\n",
              "\n",
              "        async function convertToInteractive(key) {\n",
              "          const element = document.querySelector('#df-9d4ec5fa-66b6-42a6-a3e4-1241ce7b15b8');\n",
              "          const dataTable =\n",
              "            await google.colab.kernel.invokeFunction('convertToInteractive',\n",
              "                                                     [key], {});\n",
              "          if (!dataTable) return;\n",
              "\n",
              "          const docLinkHtml = 'Like what you see? Visit the ' +\n",
              "            '<a target=\"_blank\" href=https://colab.research.google.com/notebooks/data_table.ipynb>data table notebook</a>'\n",
              "            + ' to learn more about interactive tables.';\n",
              "          element.innerHTML = '';\n",
              "          dataTable['output_type'] = 'display_data';\n",
              "          await google.colab.output.renderOutput(dataTable, element);\n",
              "          const docLink = document.createElement('div');\n",
              "          docLink.innerHTML = docLinkHtml;\n",
              "          element.appendChild(docLink);\n",
              "        }\n",
              "      </script>\n",
              "    </div>\n",
              "  </div>\n",
              "  "
            ]
          },
          "metadata": {},
          "execution_count": 7
        }
      ]
    },
    {
      "cell_type": "markdown",
      "source": [
        "Le jeu de données étudié contient un échantillon de 394 individus présentés en fonction de 18 propriétés."
      ],
      "metadata": {
        "id": "WXf7s_9otcEM"
      }
    },
    {
      "cell_type": "code",
      "source": [
        "games2019_athletes.info()"
      ],
      "metadata": {
        "colab": {
          "base_uri": "https://localhost:8080/"
        },
        "id": "3LsNIbhkfsvf",
        "outputId": "4d45f925-65a0-4371-8f9a-6e2f098b7290"
      },
      "execution_count": 8,
      "outputs": [
        {
          "output_type": "stream",
          "name": "stdout",
          "text": [
            "<class 'pandas.core.frame.DataFrame'>\n",
            "RangeIndex: 394 entries, 0 to 393\n",
            "Data columns (total 18 columns):\n",
            " #   Column               Non-Null Count  Dtype  \n",
            "---  ------               --------------  -----  \n",
            " 0   height               394 non-null    float64\n",
            " 1   affiliateid          357 non-null    float64\n",
            " 2   countryoforiginname  394 non-null    object \n",
            " 3   weight               394 non-null    float64\n",
            " 4   affiliatename        357 non-null    object \n",
            " 5   status               394 non-null    object \n",
            " 6   bibid                394 non-null    object \n",
            " 7   profilepics3key      394 non-null    object \n",
            " 8   competitorid         394 non-null    int64  \n",
            " 9   firstname            394 non-null    object \n",
            " 10  gender               394 non-null    object \n",
            " 11  age                  394 non-null    int64  \n",
            " 12  lastname             394 non-null    object \n",
            " 13  countryoforigincode  393 non-null    object \n",
            " 14  competitorname       394 non-null    object \n",
            " 15  overallrank          394 non-null    object \n",
            " 16  overallscore         391 non-null    float64\n",
            " 17  division             394 non-null    object \n",
            "dtypes: float64(4), int64(2), object(12)\n",
            "memory usage: 55.5+ KB\n"
          ]
        }
      ]
    },
    {
      "cell_type": "markdown",
      "source": [
        "En observant les composantes du jeu de données, on remarque que :\n",
        "* Les principales caractéristiques que l'on va pouvoir étudier pour essayer de répondre à la problématique sont l'âge et le genre des athlètes. On peut également s'intéresser aux caractéristiques physiques que sont le poids et la taille.\n",
        "\n",
        "* Certaines valeur réapparaissent plusieurs fois et sont communes à plusieurs athlètes. Elles permettent de les regrouper et d'établir des catégories notamment selon le pays d'origine, le statut, le genre, et la division. Parmi ces catégories, ce sont le genre et la division qui nous intéressent pour nous aider à apporter une réponse."
      ],
      "metadata": {
        "id": "edxT_Vr5s1Oi"
      }
    },
    {
      "cell_type": "code",
      "source": [
        "gender = games2019_athletes.gender.unique()\n",
        "division = games2019_athletes.division.unique()\n",
        "print('Genre = {}\\n\\nDivision = {}'.format( gender, division))"
      ],
      "metadata": {
        "colab": {
          "base_uri": "https://localhost:8080/"
        },
        "id": "P8FDnT7ppB2j",
        "outputId": "981c5ef9-7b11-4d4e-8bcb-cfb450569466"
      },
      "execution_count": 9,
      "outputs": [
        {
          "output_type": "stream",
          "name": "stdout",
          "text": [
            "Genre = ['M' 'F' 'X']\n",
            "\n",
            "Division = ['Men' 'Women' 'Men (35-39)' 'Women (35-39)' 'Men (40-44)' 'Women (40-44)'\n",
            " 'Men (45-49)' 'Women (45-49)' 'Men (50-54)' 'Women (50-54)' 'Men (55-59)'\n",
            " 'Women (55-59)' 'Men (60+)' 'Women (60+)']\n"
          ]
        }
      ]
    },
    {
      "cell_type": "markdown",
      "source": [
        "Pour la suite on gardera uniquement les composantes citées précédemment."
      ],
      "metadata": {
        "id": "zJwAfAKxEvcN"
      }
    },
    {
      "cell_type": "code",
      "source": [
        "#games2019_athletes_filtered = games2019_athletes.loc[games2019_athletes['division'].isin(['Men', 'Women']), ['competitorid', 'height', 'weight', 'gender', 'age', 'overallscore']]\n",
        "games2019_athletes_filtered = games2019_athletes.loc[:, ['division', 'age', 'gender', 'height', 'weight', 'overallscore']]\n",
        "games2019_athletes_filtered"
      ],
      "metadata": {
        "colab": {
          "base_uri": "https://localhost:8080/",
          "height": 424
        },
        "id": "BDlGgYY0LYPq",
        "outputId": "d70d6116-449e-4399-eade-dd7220bf8406"
      },
      "execution_count": 10,
      "outputs": [
        {
          "output_type": "execute_result",
          "data": {
            "text/plain": [
              "        division  age gender  height  weight  overallscore\n",
              "0            Men   29      M    1.74    88.5         984.0\n",
              "1            Men   28      M    1.74    86.2         949.0\n",
              "2            Men   26      M    1.55    83.9         888.0\n",
              "3            Men   31      M    1.80    84.8         795.0\n",
              "4            Men   28      M    1.55    87.1         728.0\n",
              "..           ...  ...    ...     ...     ...           ...\n",
              "389  Women (60+)   62      X    1.65    71.2         380.0\n",
              "390  Women (60+)   62      X    1.62    53.1         310.0\n",
              "391  Women (60+)   62      X    1.25    50.8         290.0\n",
              "392  Women (60+)   60      X    1.68    57.2         250.0\n",
              "393  Women (60+)   60      X    1.68    55.8         190.0\n",
              "\n",
              "[394 rows x 6 columns]"
            ],
            "text/html": [
              "\n",
              "  <div id=\"df-c95384f4-06fa-4837-aa8b-fd0a411840d6\">\n",
              "    <div class=\"colab-df-container\">\n",
              "      <div>\n",
              "<style scoped>\n",
              "    .dataframe tbody tr th:only-of-type {\n",
              "        vertical-align: middle;\n",
              "    }\n",
              "\n",
              "    .dataframe tbody tr th {\n",
              "        vertical-align: top;\n",
              "    }\n",
              "\n",
              "    .dataframe thead th {\n",
              "        text-align: right;\n",
              "    }\n",
              "</style>\n",
              "<table border=\"1\" class=\"dataframe\">\n",
              "  <thead>\n",
              "    <tr style=\"text-align: right;\">\n",
              "      <th></th>\n",
              "      <th>division</th>\n",
              "      <th>age</th>\n",
              "      <th>gender</th>\n",
              "      <th>height</th>\n",
              "      <th>weight</th>\n",
              "      <th>overallscore</th>\n",
              "    </tr>\n",
              "  </thead>\n",
              "  <tbody>\n",
              "    <tr>\n",
              "      <th>0</th>\n",
              "      <td>Men</td>\n",
              "      <td>29</td>\n",
              "      <td>M</td>\n",
              "      <td>1.74</td>\n",
              "      <td>88.5</td>\n",
              "      <td>984.0</td>\n",
              "    </tr>\n",
              "    <tr>\n",
              "      <th>1</th>\n",
              "      <td>Men</td>\n",
              "      <td>28</td>\n",
              "      <td>M</td>\n",
              "      <td>1.74</td>\n",
              "      <td>86.2</td>\n",
              "      <td>949.0</td>\n",
              "    </tr>\n",
              "    <tr>\n",
              "      <th>2</th>\n",
              "      <td>Men</td>\n",
              "      <td>26</td>\n",
              "      <td>M</td>\n",
              "      <td>1.55</td>\n",
              "      <td>83.9</td>\n",
              "      <td>888.0</td>\n",
              "    </tr>\n",
              "    <tr>\n",
              "      <th>3</th>\n",
              "      <td>Men</td>\n",
              "      <td>31</td>\n",
              "      <td>M</td>\n",
              "      <td>1.80</td>\n",
              "      <td>84.8</td>\n",
              "      <td>795.0</td>\n",
              "    </tr>\n",
              "    <tr>\n",
              "      <th>4</th>\n",
              "      <td>Men</td>\n",
              "      <td>28</td>\n",
              "      <td>M</td>\n",
              "      <td>1.55</td>\n",
              "      <td>87.1</td>\n",
              "      <td>728.0</td>\n",
              "    </tr>\n",
              "    <tr>\n",
              "      <th>...</th>\n",
              "      <td>...</td>\n",
              "      <td>...</td>\n",
              "      <td>...</td>\n",
              "      <td>...</td>\n",
              "      <td>...</td>\n",
              "      <td>...</td>\n",
              "    </tr>\n",
              "    <tr>\n",
              "      <th>389</th>\n",
              "      <td>Women (60+)</td>\n",
              "      <td>62</td>\n",
              "      <td>X</td>\n",
              "      <td>1.65</td>\n",
              "      <td>71.2</td>\n",
              "      <td>380.0</td>\n",
              "    </tr>\n",
              "    <tr>\n",
              "      <th>390</th>\n",
              "      <td>Women (60+)</td>\n",
              "      <td>62</td>\n",
              "      <td>X</td>\n",
              "      <td>1.62</td>\n",
              "      <td>53.1</td>\n",
              "      <td>310.0</td>\n",
              "    </tr>\n",
              "    <tr>\n",
              "      <th>391</th>\n",
              "      <td>Women (60+)</td>\n",
              "      <td>62</td>\n",
              "      <td>X</td>\n",
              "      <td>1.25</td>\n",
              "      <td>50.8</td>\n",
              "      <td>290.0</td>\n",
              "    </tr>\n",
              "    <tr>\n",
              "      <th>392</th>\n",
              "      <td>Women (60+)</td>\n",
              "      <td>60</td>\n",
              "      <td>X</td>\n",
              "      <td>1.68</td>\n",
              "      <td>57.2</td>\n",
              "      <td>250.0</td>\n",
              "    </tr>\n",
              "    <tr>\n",
              "      <th>393</th>\n",
              "      <td>Women (60+)</td>\n",
              "      <td>60</td>\n",
              "      <td>X</td>\n",
              "      <td>1.68</td>\n",
              "      <td>55.8</td>\n",
              "      <td>190.0</td>\n",
              "    </tr>\n",
              "  </tbody>\n",
              "</table>\n",
              "<p>394 rows × 6 columns</p>\n",
              "</div>\n",
              "      <button class=\"colab-df-convert\" onclick=\"convertToInteractive('df-c95384f4-06fa-4837-aa8b-fd0a411840d6')\"\n",
              "              title=\"Convert this dataframe to an interactive table.\"\n",
              "              style=\"display:none;\">\n",
              "        \n",
              "  <svg xmlns=\"http://www.w3.org/2000/svg\" height=\"24px\"viewBox=\"0 0 24 24\"\n",
              "       width=\"24px\">\n",
              "    <path d=\"M0 0h24v24H0V0z\" fill=\"none\"/>\n",
              "    <path d=\"M18.56 5.44l.94 2.06.94-2.06 2.06-.94-2.06-.94-.94-2.06-.94 2.06-2.06.94zm-11 1L8.5 8.5l.94-2.06 2.06-.94-2.06-.94L8.5 2.5l-.94 2.06-2.06.94zm10 10l.94 2.06.94-2.06 2.06-.94-2.06-.94-.94-2.06-.94 2.06-2.06.94z\"/><path d=\"M17.41 7.96l-1.37-1.37c-.4-.4-.92-.59-1.43-.59-.52 0-1.04.2-1.43.59L10.3 9.45l-7.72 7.72c-.78.78-.78 2.05 0 2.83L4 21.41c.39.39.9.59 1.41.59.51 0 1.02-.2 1.41-.59l7.78-7.78 2.81-2.81c.8-.78.8-2.07 0-2.86zM5.41 20L4 18.59l7.72-7.72 1.47 1.35L5.41 20z\"/>\n",
              "  </svg>\n",
              "      </button>\n",
              "      \n",
              "  <style>\n",
              "    .colab-df-container {\n",
              "      display:flex;\n",
              "      flex-wrap:wrap;\n",
              "      gap: 12px;\n",
              "    }\n",
              "\n",
              "    .colab-df-convert {\n",
              "      background-color: #E8F0FE;\n",
              "      border: none;\n",
              "      border-radius: 50%;\n",
              "      cursor: pointer;\n",
              "      display: none;\n",
              "      fill: #1967D2;\n",
              "      height: 32px;\n",
              "      padding: 0 0 0 0;\n",
              "      width: 32px;\n",
              "    }\n",
              "\n",
              "    .colab-df-convert:hover {\n",
              "      background-color: #E2EBFA;\n",
              "      box-shadow: 0px 1px 2px rgba(60, 64, 67, 0.3), 0px 1px 3px 1px rgba(60, 64, 67, 0.15);\n",
              "      fill: #174EA6;\n",
              "    }\n",
              "\n",
              "    [theme=dark] .colab-df-convert {\n",
              "      background-color: #3B4455;\n",
              "      fill: #D2E3FC;\n",
              "    }\n",
              "\n",
              "    [theme=dark] .colab-df-convert:hover {\n",
              "      background-color: #434B5C;\n",
              "      box-shadow: 0px 1px 3px 1px rgba(0, 0, 0, 0.15);\n",
              "      filter: drop-shadow(0px 1px 2px rgba(0, 0, 0, 0.3));\n",
              "      fill: #FFFFFF;\n",
              "    }\n",
              "  </style>\n",
              "\n",
              "      <script>\n",
              "        const buttonEl =\n",
              "          document.querySelector('#df-c95384f4-06fa-4837-aa8b-fd0a411840d6 button.colab-df-convert');\n",
              "        buttonEl.style.display =\n",
              "          google.colab.kernel.accessAllowed ? 'block' : 'none';\n",
              "\n",
              "        async function convertToInteractive(key) {\n",
              "          const element = document.querySelector('#df-c95384f4-06fa-4837-aa8b-fd0a411840d6');\n",
              "          const dataTable =\n",
              "            await google.colab.kernel.invokeFunction('convertToInteractive',\n",
              "                                                     [key], {});\n",
              "          if (!dataTable) return;\n",
              "\n",
              "          const docLinkHtml = 'Like what you see? Visit the ' +\n",
              "            '<a target=\"_blank\" href=https://colab.research.google.com/notebooks/data_table.ipynb>data table notebook</a>'\n",
              "            + ' to learn more about interactive tables.';\n",
              "          element.innerHTML = '';\n",
              "          dataTable['output_type'] = 'display_data';\n",
              "          await google.colab.output.renderOutput(dataTable, element);\n",
              "          const docLink = document.createElement('div');\n",
              "          docLink.innerHTML = docLinkHtml;\n",
              "          element.appendChild(docLink);\n",
              "        }\n",
              "      </script>\n",
              "    </div>\n",
              "  </div>\n",
              "  "
            ]
          },
          "metadata": {},
          "execution_count": 10
        }
      ]
    },
    {
      "cell_type": "code",
      "source": [
        "#games2019_athletes.groupby('gender').size()\n",
        "sb.histplot(data=games2019_athletes_filtered, y='gender')"
      ],
      "metadata": {
        "colab": {
          "base_uri": "https://localhost:8080/",
          "height": 296
        },
        "id": "R4OGpwoXTlEP",
        "outputId": "637c7209-4f43-4738-abac-84c3b414220b"
      },
      "execution_count": 11,
      "outputs": [
        {
          "output_type": "execute_result",
          "data": {
            "text/plain": [
              "<matplotlib.axes._subplots.AxesSubplot at 0x7f4ee5643bd0>"
            ]
          },
          "metadata": {},
          "execution_count": 11
        },
        {
          "output_type": "display_data",
          "data": {
            "text/plain": [
              "<Figure size 432x288 with 1 Axes>"
            ],
            "image/png": "[encoded data removed]"
          },
          "metadata": {
            "needs_background": "light"
          }
        }
      ]
    },
    {
      "cell_type": "markdown",
      "source": [
        "On voit aussi dans la liste des genres la présence d'une valeur 'X' en très grand nombre."
      ],
      "metadata": {
        "id": "EzdyIvK626hb"
      }
    },
    {
      "cell_type": "code",
      "source": [
        "games2019_athletes_filtered.loc[games2019_athletes_filtered.division.str.contains('Men', case=True), 'gender'] = 'M'\n",
        "games2019_athletes_filtered.loc[games2019_athletes_filtered.division.str.contains('Women', case=True), 'gender'] = 'W'"
      ],
      "metadata": {
        "id": "4XDeuFZkVyPN"
      },
      "execution_count": 12,
      "outputs": []
    },
    {
      "cell_type": "markdown",
      "source": [
        "Afin d'avoir une cohérence, on attribue un genre aux individus pour qui il n'est pas défini (ayant pour valeur 'X') selon les divisions dans lesquels ils se trouvent."
      ],
      "metadata": {
        "id": "4jrTJILqbF6i"
      }
    },
    {
      "cell_type": "code",
      "source": [
        "games2019_athletes_filtered['gender'] = games2019_athletes_filtered['gender'].replace(['M','W'],[0,1])"
      ],
      "metadata": {
        "id": "r8yN0ulPeddp"
      },
      "execution_count": 13,
      "outputs": []
    },
    {
      "cell_type": "markdown",
      "source": [
        "Et on remplace les valeurs des genres par 0 pour Men et 1 pour Women afin de faciliter leur prise en compte dans les statistiques et de travailler plus facilement avec."
      ],
      "metadata": {
        "id": "1tzMOwnMelnl"
      }
    },
    {
      "cell_type": "code",
      "source": [
        "games2019_athletes_filtered"
      ],
      "metadata": {
        "colab": {
          "base_uri": "https://localhost:8080/",
          "height": 424
        },
        "id": "5vC3bDRFUayx",
        "outputId": "3bb0636e-1e15-4b1c-a316-1cefff30b2bc"
      },
      "execution_count": 14,
      "outputs": [
        {
          "output_type": "execute_result",
          "data": {
            "text/plain": [
              "        division  age  gender  height  weight  overallscore\n",
              "0            Men   29       0    1.74    88.5         984.0\n",
              "1            Men   28       0    1.74    86.2         949.0\n",
              "2            Men   26       0    1.55    83.9         888.0\n",
              "3            Men   31       0    1.80    84.8         795.0\n",
              "4            Men   28       0    1.55    87.1         728.0\n",
              "..           ...  ...     ...     ...     ...           ...\n",
              "389  Women (60+)   62       1    1.65    71.2         380.0\n",
              "390  Women (60+)   62       1    1.62    53.1         310.0\n",
              "391  Women (60+)   62       1    1.25    50.8         290.0\n",
              "392  Women (60+)   60       1    1.68    57.2         250.0\n",
              "393  Women (60+)   60       1    1.68    55.8         190.0\n",
              "\n",
              "[394 rows x 6 columns]"
            ],
            "text/html": [
              "\n",
              "  <div id=\"df-8ef6d093-d4bb-4b79-aeb1-7287b42d011f\">\n",
              "    <div class=\"colab-df-container\">\n",
              "      <div>\n",
              "<style scoped>\n",
              "    .dataframe tbody tr th:only-of-type {\n",
              "        vertical-align: middle;\n",
              "    }\n",
              "\n",
              "    .dataframe tbody tr th {\n",
              "        vertical-align: top;\n",
              "    }\n",
              "\n",
              "    .dataframe thead th {\n",
              "        text-align: right;\n",
              "    }\n",
              "</style>\n",
              "<table border=\"1\" class=\"dataframe\">\n",
              "  <thead>\n",
              "    <tr style=\"text-align: right;\">\n",
              "      <th></th>\n",
              "      <th>division</th>\n",
              "      <th>age</th>\n",
              "      <th>gender</th>\n",
              "      <th>height</th>\n",
              "      <th>weight</th>\n",
              "      <th>overallscore</th>\n",
              "    </tr>\n",
              "  </thead>\n",
              "  <tbody>\n",
              "    <tr>\n",
              "      <th>0</th>\n",
              "      <td>Men</td>\n",
              "      <td>29</td>\n",
              "      <td>0</td>\n",
              "      <td>1.74</td>\n",
              "      <td>88.5</td>\n",
              "      <td>984.0</td>\n",
              "    </tr>\n",
              "    <tr>\n",
              "      <th>1</th>\n",
              "      <td>Men</td>\n",
              "      <td>28</td>\n",
              "      <td>0</td>\n",
              "      <td>1.74</td>\n",
              "      <td>86.2</td>\n",
              "      <td>949.0</td>\n",
              "    </tr>\n",
              "    <tr>\n",
              "      <th>2</th>\n",
              "      <td>Men</td>\n",
              "      <td>26</td>\n",
              "      <td>0</td>\n",
              "      <td>1.55</td>\n",
              "      <td>83.9</td>\n",
              "      <td>888.0</td>\n",
              "    </tr>\n",
              "    <tr>\n",
              "      <th>3</th>\n",
              "      <td>Men</td>\n",
              "      <td>31</td>\n",
              "      <td>0</td>\n",
              "      <td>1.80</td>\n",
              "      <td>84.8</td>\n",
              "      <td>795.0</td>\n",
              "    </tr>\n",
              "    <tr>\n",
              "      <th>4</th>\n",
              "      <td>Men</td>\n",
              "      <td>28</td>\n",
              "      <td>0</td>\n",
              "      <td>1.55</td>\n",
              "      <td>87.1</td>\n",
              "      <td>728.0</td>\n",
              "    </tr>\n",
              "    <tr>\n",
              "      <th>...</th>\n",
              "      <td>...</td>\n",
              "      <td>...</td>\n",
              "      <td>...</td>\n",
              "      <td>...</td>\n",
              "      <td>...</td>\n",
              "      <td>...</td>\n",
              "    </tr>\n",
              "    <tr>\n",
              "      <th>389</th>\n",
              "      <td>Women (60+)</td>\n",
              "      <td>62</td>\n",
              "      <td>1</td>\n",
              "      <td>1.65</td>\n",
              "      <td>71.2</td>\n",
              "      <td>380.0</td>\n",
              "    </tr>\n",
              "    <tr>\n",
              "      <th>390</th>\n",
              "      <td>Women (60+)</td>\n",
              "      <td>62</td>\n",
              "      <td>1</td>\n",
              "      <td>1.62</td>\n",
              "      <td>53.1</td>\n",
              "      <td>310.0</td>\n",
              "    </tr>\n",
              "    <tr>\n",
              "      <th>391</th>\n",
              "      <td>Women (60+)</td>\n",
              "      <td>62</td>\n",
              "      <td>1</td>\n",
              "      <td>1.25</td>\n",
              "      <td>50.8</td>\n",
              "      <td>290.0</td>\n",
              "    </tr>\n",
              "    <tr>\n",
              "      <th>392</th>\n",
              "      <td>Women (60+)</td>\n",
              "      <td>60</td>\n",
              "      <td>1</td>\n",
              "      <td>1.68</td>\n",
              "      <td>57.2</td>\n",
              "      <td>250.0</td>\n",
              "    </tr>\n",
              "    <tr>\n",
              "      <th>393</th>\n",
              "      <td>Women (60+)</td>\n",
              "      <td>60</td>\n",
              "      <td>1</td>\n",
              "      <td>1.68</td>\n",
              "      <td>55.8</td>\n",
              "      <td>190.0</td>\n",
              "    </tr>\n",
              "  </tbody>\n",
              "</table>\n",
              "<p>394 rows × 6 columns</p>\n",
              "</div>\n",
              "      <button class=\"colab-df-convert\" onclick=\"convertToInteractive('df-8ef6d093-d4bb-4b79-aeb1-7287b42d011f')\"\n",
              "              title=\"Convert this dataframe to an interactive table.\"\n",
              "              style=\"display:none;\">\n",
              "        \n",
              "  <svg xmlns=\"http://www.w3.org/2000/svg\" height=\"24px\"viewBox=\"0 0 24 24\"\n",
              "       width=\"24px\">\n",
              "    <path d=\"M0 0h24v24H0V0z\" fill=\"none\"/>\n",
              "    <path d=\"M18.56 5.44l.94 2.06.94-2.06 2.06-.94-2.06-.94-.94-2.06-.94 2.06-2.06.94zm-11 1L8.5 8.5l.94-2.06 2.06-.94-2.06-.94L8.5 2.5l-.94 2.06-2.06.94zm10 10l.94 2.06.94-2.06 2.06-.94-2.06-.94-.94-2.06-.94 2.06-2.06.94z\"/><path d=\"M17.41 7.96l-1.37-1.37c-.4-.4-.92-.59-1.43-.59-.52 0-1.04.2-1.43.59L10.3 9.45l-7.72 7.72c-.78.78-.78 2.05 0 2.83L4 21.41c.39.39.9.59 1.41.59.51 0 1.02-.2 1.41-.59l7.78-7.78 2.81-2.81c.8-.78.8-2.07 0-2.86zM5.41 20L4 18.59l7.72-7.72 1.47 1.35L5.41 20z\"/>\n",
              "  </svg>\n",
              "      </button>\n",
              "      \n",
              "  <style>\n",
              "    .colab-df-container {\n",
              "      display:flex;\n",
              "      flex-wrap:wrap;\n",
              "      gap: 12px;\n",
              "    }\n",
              "\n",
              "    .colab-df-convert {\n",
              "      background-color: #E8F0FE;\n",
              "      border: none;\n",
              "      border-radius: 50%;\n",
              "      cursor: pointer;\n",
              "      display: none;\n",
              "      fill: #1967D2;\n",
              "      height: 32px;\n",
              "      padding: 0 0 0 0;\n",
              "      width: 32px;\n",
              "    }\n",
              "\n",
              "    .colab-df-convert:hover {\n",
              "      background-color: #E2EBFA;\n",
              "      box-shadow: 0px 1px 2px rgba(60, 64, 67, 0.3), 0px 1px 3px 1px rgba(60, 64, 67, 0.15);\n",
              "      fill: #174EA6;\n",
              "    }\n",
              "\n",
              "    [theme=dark] .colab-df-convert {\n",
              "      background-color: #3B4455;\n",
              "      fill: #D2E3FC;\n",
              "    }\n",
              "\n",
              "    [theme=dark] .colab-df-convert:hover {\n",
              "      background-color: #434B5C;\n",
              "      box-shadow: 0px 1px 3px 1px rgba(0, 0, 0, 0.15);\n",
              "      filter: drop-shadow(0px 1px 2px rgba(0, 0, 0, 0.3));\n",
              "      fill: #FFFFFF;\n",
              "    }\n",
              "  </style>\n",
              "\n",
              "      <script>\n",
              "        const buttonEl =\n",
              "          document.querySelector('#df-8ef6d093-d4bb-4b79-aeb1-7287b42d011f button.colab-df-convert');\n",
              "        buttonEl.style.display =\n",
              "          google.colab.kernel.accessAllowed ? 'block' : 'none';\n",
              "\n",
              "        async function convertToInteractive(key) {\n",
              "          const element = document.querySelector('#df-8ef6d093-d4bb-4b79-aeb1-7287b42d011f');\n",
              "          const dataTable =\n",
              "            await google.colab.kernel.invokeFunction('convertToInteractive',\n",
              "                                                     [key], {});\n",
              "          if (!dataTable) return;\n",
              "\n",
              "          const docLinkHtml = 'Like what you see? Visit the ' +\n",
              "            '<a target=\"_blank\" href=https://colab.research.google.com/notebooks/data_table.ipynb>data table notebook</a>'\n",
              "            + ' to learn more about interactive tables.';\n",
              "          element.innerHTML = '';\n",
              "          dataTable['output_type'] = 'display_data';\n",
              "          await google.colab.output.renderOutput(dataTable, element);\n",
              "          const docLink = document.createElement('div');\n",
              "          docLink.innerHTML = docLinkHtml;\n",
              "          element.appendChild(docLink);\n",
              "        }\n",
              "      </script>\n",
              "    </div>\n",
              "  </div>\n",
              "  "
            ]
          },
          "metadata": {},
          "execution_count": 14
        }
      ]
    },
    {
      "cell_type": "code",
      "source": [
        "games2019_athletes_filtered.info()"
      ],
      "metadata": {
        "colab": {
          "base_uri": "https://localhost:8080/"
        },
        "id": "-T-OdBIfOQhj",
        "outputId": "54e46433-03b5-4150-f5c6-67f5c9169610"
      },
      "execution_count": 16,
      "outputs": [
        {
          "output_type": "stream",
          "name": "stdout",
          "text": [
            "<class 'pandas.core.frame.DataFrame'>\n",
            "RangeIndex: 394 entries, 0 to 393\n",
            "Data columns (total 6 columns):\n",
            " #   Column        Non-Null Count  Dtype  \n",
            "---  ------        --------------  -----  \n",
            " 0   division      394 non-null    object \n",
            " 1   age           394 non-null    int64  \n",
            " 2   gender        394 non-null    int64  \n",
            " 3   height        394 non-null    float64\n",
            " 4   weight        394 non-null    float64\n",
            " 5   overallscore  391 non-null    float64\n",
            "dtypes: float64(3), int64(2), object(1)\n",
            "memory usage: 18.6+ KB\n"
          ]
        }
      ]
    },
    {
      "cell_type": "markdown",
      "source": [
        "On va donc travailler avec un jeu de données qui présente 6 propriétés pour le même nombre d'individus."
      ],
      "metadata": {
        "id": "J_T13QuP30X1"
      }
    },
    {
      "cell_type": "markdown",
      "source": [
        "### Analyse des données"
      ],
      "metadata": {
        "id": "pglCS1ElLSXF"
      }
    },
    {
      "cell_type": "markdown",
      "source": [
        "1.   Corrélation entre les différentes propriétés"
      ],
      "metadata": {
        "id": "boQ4Eh5ul7Qn"
      }
    },
    {
      "cell_type": "code",
      "source": [
        "matrice_games = games2019_athletes_filtered.corr()\n",
        "plt.figure(figsize= (9,6))\n",
        "sb.heatmap(data=matrice_games, annot=True)"
      ],
      "metadata": {
        "colab": {
          "base_uri": "https://localhost:8080/",
          "height": 395
        },
        "id": "JmykG8GYQA4H",
        "outputId": "3ebea86e-fec1-408b-9f35-d3772041afc0"
      },
      "execution_count": 18,
      "outputs": [
        {
          "output_type": "execute_result",
          "data": {
            "text/plain": [
              "<matplotlib.axes._subplots.AxesSubplot at 0x7f4ee509fb50>"
            ]
          },
          "metadata": {},
          "execution_count": 18
        },
        {
          "output_type": "display_data",
          "data": {
            "text/plain": [
              "<Figure size 648x432 with 2 Axes>"
            ],
            "image/png": "[encoded data removed]"
          },
          "metadata": {
            "needs_background": "light"
          }
        }
      ]
    },
    {
      "cell_type": "markdown",
      "source": [
        "La heatmap permet de mettre en évidence que la plus forte corélation se fait entre l'âge et le score. Le genre présente une corélation beaucoup moins élevée mais toujours plus importante que la taille et le poids qui sont quasiment nulle voir négative."
      ],
      "metadata": {
        "id": "I4Hlw8mL4wvu"
      }
    },
    {
      "cell_type": "markdown",
      "source": [
        "2.   L'âge"
      ],
      "metadata": {
        "id": "j4mPyOvlmFRo"
      }
    },
    {
      "cell_type": "code",
      "source": [
        "plt.figure(figsize= (18,6))\n",
        "sb.histplot(data=games2019_athletes_filtered, x=\"age\")"
      ],
      "metadata": {
        "colab": {
          "base_uri": "https://localhost:8080/",
          "height": 405
        },
        "id": "CfCU4hrDic4V",
        "outputId": "ddca44cc-ff0f-4166-9042-718e5a554158"
      },
      "execution_count": 19,
      "outputs": [
        {
          "output_type": "execute_result",
          "data": {
            "text/plain": [
              "<matplotlib.axes._subplots.AxesSubplot at 0x7f4ee2797b10>"
            ]
          },
          "metadata": {},
          "execution_count": 19
        },
        {
          "output_type": "display_data",
          "data": {
            "text/plain": [
              "<Figure size 1296x432 with 1 Axes>"
            ],
            "image/png": "[encoded data removed]"
          },
          "metadata": {
            "needs_background": "light"
          }
        }
      ]
    },
    {
      "cell_type": "markdown",
      "source": [
        "La distribution des athlètes par âge montre clairement que le nombre de participants diminue fortement au delà de 35-40 ans."
      ],
      "metadata": {
        "id": "-eVSzS-c6uLp"
      }
    },
    {
      "cell_type": "code",
      "source": [
        "sb.relplot(data=games2019_athletes_filtered, x=\"age\", y=\"overallscore\", height=6)"
      ],
      "metadata": {
        "colab": {
          "base_uri": "https://localhost:8080/",
          "height": 458
        },
        "id": "HCYhhovNi3MC",
        "outputId": "314cb1f0-0770-4015-db50-ff04e8500b21"
      },
      "execution_count": 44,
      "outputs": [
        {
          "output_type": "execute_result",
          "data": {
            "text/plain": [
              "<seaborn.axisgrid.FacetGrid at 0x7f4edf9c5c50>"
            ]
          },
          "metadata": {},
          "execution_count": 44
        },
        {
          "output_type": "display_data",
          "data": {
            "text/plain": [
              "<Figure size 432x432 with 1 Axes>"
            ],
            "image/png": "[encoded data removed]"
          },
          "metadata": {
            "needs_background": "light"
          }
        }
      ]
    },
    {
      "cell_type": "code",
      "source": [
        "#games2019_athletes.groupby('division').size()"
      ],
      "metadata": {
        "id": "7fuyfasiwsa_"
      },
      "execution_count": 41,
      "outputs": []
    },
    {
      "cell_type": "code",
      "source": [
        "#plt.figure(figsize= (18,6))\n",
        "#sb.histplot(data=games2019_athletes_filtered, x=\"division\")"
      ],
      "metadata": {
        "id": "3kVNmH322hHw"
      },
      "execution_count": 43,
      "outputs": []
    },
    {
      "cell_type": "code",
      "source": [
        "sb.catplot(data=games2019_athletes_filtered, x=\"division\", y=\"overallscore\", kind=\"box\", height=6, aspect=2)"
      ],
      "metadata": {
        "colab": {
          "base_uri": "https://localhost:8080/",
          "height": 458
        },
        "id": "q3Y5gXmcxmru",
        "outputId": "67238127-0760-4739-bd43-d3e302ecc2d3"
      },
      "execution_count": 27,
      "outputs": [
        {
          "output_type": "execute_result",
          "data": {
            "text/plain": [
              "<seaborn.axisgrid.FacetGrid at 0x7f4ee24f0910>"
            ]
          },
          "metadata": {},
          "execution_count": 27
        },
        {
          "output_type": "display_data",
          "data": {
            "text/plain": [
              "<Figure size 864x432 with 1 Axes>"
            ],
            "image/png": "[encoded data removed]"
          },
          "metadata": {
            "needs_background": "light"
          }
        }
      ]
    },
    {
      "cell_type": "code",
      "source": [
        "sb.lmplot(data=games2019_athletes_filtered, x=\"age\", y=\"overallscore\", hue=\"gender\", height=6)"
      ],
      "metadata": {
        "colab": {
          "base_uri": "https://localhost:8080/",
          "height": 458
        },
        "id": "tmvWVaeo7fyE",
        "outputId": "36af1dfe-035d-49ea-e5ed-b0515d937882"
      },
      "execution_count": 39,
      "outputs": [
        {
          "output_type": "execute_result",
          "data": {
            "text/plain": [
              "<seaborn.axisgrid.FacetGrid at 0x7f4ee1237350>"
            ]
          },
          "metadata": {},
          "execution_count": 39
        },
        {
          "output_type": "display_data",
          "data": {
            "text/plain": [
              "<Figure size 475.5x432 with 1 Axes>"
            ],
            "image/png": "[encoded data removed]"
          },
          "metadata": {
            "needs_background": "light"
          }
        }
      ]
    },
    {
      "cell_type": "markdown",
      "source": [
        "3.   Le genre"
      ],
      "metadata": {
        "id": "mX7zUokemUKf"
      }
    },
    {
      "cell_type": "code",
      "source": [
        "plt.figure(figsize= (18,6))\n",
        "sb.histplot(data=games2019_athletes_filtered, x=\"gender\")"
      ],
      "metadata": {
        "colab": {
          "base_uri": "https://localhost:8080/",
          "height": 405
        },
        "id": "6kyuxJ7jh9Hj",
        "outputId": "a2a100ce-1416-49ec-848b-81d7603605c0"
      },
      "execution_count": 22,
      "outputs": [
        {
          "output_type": "execute_result",
          "data": {
            "text/plain": [
              "<matplotlib.axes._subplots.AxesSubplot at 0x7f4ee265f510>"
            ]
          },
          "metadata": {},
          "execution_count": 22
        },
        {
          "output_type": "display_data",
          "data": {
            "text/plain": [
              "<Figure size 1296x432 with 1 Axes>"
            ],
            "image/png": "[encoded data removed]"
          },
          "metadata": {
            "needs_background": "light"
          }
        }
      ]
    },
    {
      "cell_type": "markdown",
      "source": [
        "La distribution des athlètes par genre montre en revanche une répartition presque identique entre les athlètes hommes et femme."
      ],
      "metadata": {
        "id": "m6Nlpw9u8p2A"
      }
    },
    {
      "cell_type": "code",
      "source": [
        "sb.catplot(data=games2019_athletes_filtered, x=\"gender\", y=\"overallscore\", kind=\"box\", height=6)"
      ],
      "metadata": {
        "colab": {
          "base_uri": "https://localhost:8080/",
          "height": 458
        },
        "id": "z_NnlLknfumu",
        "outputId": "804ec8d6-0c0a-4382-b1f8-7faca422ed3d"
      },
      "execution_count": 23,
      "outputs": [
        {
          "output_type": "execute_result",
          "data": {
            "text/plain": [
              "<seaborn.axisgrid.FacetGrid at 0x7f4ee25faad0>"
            ]
          },
          "metadata": {},
          "execution_count": 23
        },
        {
          "output_type": "display_data",
          "data": {
            "text/plain": [
              "<Figure size 432x432 with 1 Axes>"
            ],
            "image/png": "[encoded data removed]"
          },
          "metadata": {
            "needs_background": "light"
          }
        }
      ]
    },
    {
      "cell_type": "code",
      "source": [
        "games2019_athletes_filtered.groupby('gender').overallscore.describe()"
      ],
      "metadata": {
        "colab": {
          "base_uri": "https://localhost:8080/",
          "height": 143
        },
        "id": "qILaB7p3grSR",
        "outputId": "4b9d979d-9347-4fcd-d77d-95eafc14a9bc"
      },
      "execution_count": 34,
      "outputs": [
        {
          "output_type": "execute_result",
          "data": {
            "text/plain": [
              "        count        mean         std   min    25%    50%    75%     max\n",
              "gender                                                                  \n",
              "0       200.0  198.170000  246.628647 -63.0 -17.25  110.0  382.5   984.0\n",
              "1       191.0  211.691099  249.065123 -42.0  -8.50  125.0  380.0  1071.0"
            ],
            "text/html": [
              "\n",
              "  <div id=\"df-c73c66e8-cb12-45b3-bfd2-80db71366399\">\n",
              "    <div class=\"colab-df-container\">\n",
              "      <div>\n",
              "<style scoped>\n",
              "    .dataframe tbody tr th:only-of-type {\n",
              "        vertical-align: middle;\n",
              "    }\n",
              "\n",
              "    .dataframe tbody tr th {\n",
              "        vertical-align: top;\n",
              "    }\n",
              "\n",
              "    .dataframe thead th {\n",
              "        text-align: right;\n",
              "    }\n",
              "</style>\n",
              "<table border=\"1\" class=\"dataframe\">\n",
              "  <thead>\n",
              "    <tr style=\"text-align: right;\">\n",
              "      <th></th>\n",
              "      <th>count</th>\n",
              "      <th>mean</th>\n",
              "      <th>std</th>\n",
              "      <th>min</th>\n",
              "      <th>25%</th>\n",
              "      <th>50%</th>\n",
              "      <th>75%</th>\n",
              "      <th>max</th>\n",
              "    </tr>\n",
              "    <tr>\n",
              "      <th>gender</th>\n",
              "      <th></th>\n",
              "      <th></th>\n",
              "      <th></th>\n",
              "      <th></th>\n",
              "      <th></th>\n",
              "      <th></th>\n",
              "      <th></th>\n",
              "      <th></th>\n",
              "    </tr>\n",
              "  </thead>\n",
              "  <tbody>\n",
              "    <tr>\n",
              "      <th>0</th>\n",
              "      <td>200.0</td>\n",
              "      <td>198.170000</td>\n",
              "      <td>246.628647</td>\n",
              "      <td>-63.0</td>\n",
              "      <td>-17.25</td>\n",
              "      <td>110.0</td>\n",
              "      <td>382.5</td>\n",
              "      <td>984.0</td>\n",
              "    </tr>\n",
              "    <tr>\n",
              "      <th>1</th>\n",
              "      <td>191.0</td>\n",
              "      <td>211.691099</td>\n",
              "      <td>249.065123</td>\n",
              "      <td>-42.0</td>\n",
              "      <td>-8.50</td>\n",
              "      <td>125.0</td>\n",
              "      <td>380.0</td>\n",
              "      <td>1071.0</td>\n",
              "    </tr>\n",
              "  </tbody>\n",
              "</table>\n",
              "</div>\n",
              "      <button class=\"colab-df-convert\" onclick=\"convertToInteractive('df-c73c66e8-cb12-45b3-bfd2-80db71366399')\"\n",
              "              title=\"Convert this dataframe to an interactive table.\"\n",
              "              style=\"display:none;\">\n",
              "        \n",
              "  <svg xmlns=\"http://www.w3.org/2000/svg\" height=\"24px\"viewBox=\"0 0 24 24\"\n",
              "       width=\"24px\">\n",
              "    <path d=\"M0 0h24v24H0V0z\" fill=\"none\"/>\n",
              "    <path d=\"M18.56 5.44l.94 2.06.94-2.06 2.06-.94-2.06-.94-.94-2.06-.94 2.06-2.06.94zm-11 1L8.5 8.5l.94-2.06 2.06-.94-2.06-.94L8.5 2.5l-.94 2.06-2.06.94zm10 10l.94 2.06.94-2.06 2.06-.94-2.06-.94-.94-2.06-.94 2.06-2.06.94z\"/><path d=\"M17.41 7.96l-1.37-1.37c-.4-.4-.92-.59-1.43-.59-.52 0-1.04.2-1.43.59L10.3 9.45l-7.72 7.72c-.78.78-.78 2.05 0 2.83L4 21.41c.39.39.9.59 1.41.59.51 0 1.02-.2 1.41-.59l7.78-7.78 2.81-2.81c.8-.78.8-2.07 0-2.86zM5.41 20L4 18.59l7.72-7.72 1.47 1.35L5.41 20z\"/>\n",
              "  </svg>\n",
              "      </button>\n",
              "      \n",
              "  <style>\n",
              "    .colab-df-container {\n",
              "      display:flex;\n",
              "      flex-wrap:wrap;\n",
              "      gap: 12px;\n",
              "    }\n",
              "\n",
              "    .colab-df-convert {\n",
              "      background-color: #E8F0FE;\n",
              "      border: none;\n",
              "      border-radius: 50%;\n",
              "      cursor: pointer;\n",
              "      display: none;\n",
              "      fill: #1967D2;\n",
              "      height: 32px;\n",
              "      padding: 0 0 0 0;\n",
              "      width: 32px;\n",
              "    }\n",
              "\n",
              "    .colab-df-convert:hover {\n",
              "      background-color: #E2EBFA;\n",
              "      box-shadow: 0px 1px 2px rgba(60, 64, 67, 0.3), 0px 1px 3px 1px rgba(60, 64, 67, 0.15);\n",
              "      fill: #174EA6;\n",
              "    }\n",
              "\n",
              "    [theme=dark] .colab-df-convert {\n",
              "      background-color: #3B4455;\n",
              "      fill: #D2E3FC;\n",
              "    }\n",
              "\n",
              "    [theme=dark] .colab-df-convert:hover {\n",
              "      background-color: #434B5C;\n",
              "      box-shadow: 0px 1px 3px 1px rgba(0, 0, 0, 0.15);\n",
              "      filter: drop-shadow(0px 1px 2px rgba(0, 0, 0, 0.3));\n",
              "      fill: #FFFFFF;\n",
              "    }\n",
              "  </style>\n",
              "\n",
              "      <script>\n",
              "        const buttonEl =\n",
              "          document.querySelector('#df-c73c66e8-cb12-45b3-bfd2-80db71366399 button.colab-df-convert');\n",
              "        buttonEl.style.display =\n",
              "          google.colab.kernel.accessAllowed ? 'block' : 'none';\n",
              "\n",
              "        async function convertToInteractive(key) {\n",
              "          const element = document.querySelector('#df-c73c66e8-cb12-45b3-bfd2-80db71366399');\n",
              "          const dataTable =\n",
              "            await google.colab.kernel.invokeFunction('convertToInteractive',\n",
              "                                                     [key], {});\n",
              "          if (!dataTable) return;\n",
              "\n",
              "          const docLinkHtml = 'Like what you see? Visit the ' +\n",
              "            '<a target=\"_blank\" href=https://colab.research.google.com/notebooks/data_table.ipynb>data table notebook</a>'\n",
              "            + ' to learn more about interactive tables.';\n",
              "          element.innerHTML = '';\n",
              "          dataTable['output_type'] = 'display_data';\n",
              "          await google.colab.output.renderOutput(dataTable, element);\n",
              "          const docLink = document.createElement('div');\n",
              "          docLink.innerHTML = docLinkHtml;\n",
              "          element.appendChild(docLink);\n",
              "        }\n",
              "      </script>\n",
              "    </div>\n",
              "  </div>\n",
              "  "
            ]
          },
          "metadata": {},
          "execution_count": 34
        }
      ]
    },
    {
      "cell_type": "code",
      "source": [
        "sb.catplot(data=games2019_athletes_filtered, x=\"gender\", y=\"overallscore\", kind=\"bar\", height=6)"
      ],
      "metadata": {
        "colab": {
          "base_uri": "https://localhost:8080/",
          "height": 458
        },
        "id": "QgbcU81oj6SV",
        "outputId": "3676fa99-ea87-41d1-b500-dd2a54729c46"
      },
      "execution_count": 24,
      "outputs": [
        {
          "output_type": "execute_result",
          "data": {
            "text/plain": [
              "<seaborn.axisgrid.FacetGrid at 0x7f4ee2593850>"
            ]
          },
          "metadata": {},
          "execution_count": 24
        },
        {
          "output_type": "display_data",
          "data": {
            "text/plain": [
              "<Figure size 432x432 with 1 Axes>"
            ],
            "image/png": "[encoded data removed]"
          },
          "metadata": {
            "needs_background": "light"
          }
        }
      ]
    },
    {
      "cell_type": "markdown",
      "source": [
        "## Conclusion :\n",
        "\n",
        "Bien que les éléments étudiés permettent de montrer une tendance sur l'équilibre des performances entre les hommes et les femmes, ce n'est pas aussi évident en ce qui concerne la relation entre l'âge et la performance des athlètes quelque soit leur genre.\n",
        "\n",
        "Il faut aussi souligner qu'un échantillon de 394 individus reste insuffisant pour établir de réelles statistiques. Il serait donc préférable de refaire une étude avec un jeu de données contenant un nombre beaucoup plus élevé d'individus.\n",
        "\n",
        "Le présent jeu de données ne permet donc pas de répondre à la problématique de façon satisfaisante."
      ],
      "metadata": {
        "id": "ndN3KnYyzV6L"
      }
    },
    {
      "cell_type": "markdown",
      "source": [
        "*Fact*\n",
        "\n",
        "Les charges Rx des athlètes ont été augmentées il y a deux ans, car celles des femmes n'étaient plus assez élevées. Les charges sont passées de :\n",
        "* 17,5kg à 22,5kg pour les femmes\n",
        "* 22,5kg à 30kg pour les hommes"
      ],
      "metadata": {
        "id": "wQg8zwuLrW8n"
      }
    }
  ]
}